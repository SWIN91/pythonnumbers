{
 "cells": [
  {
   "cell_type": "code",
   "execution_count": 1,
   "id": "a2cd3054",
   "metadata": {},
   "outputs": [
    {
     "name": "stdout",
     "output_type": "stream",
     "text": [
      "[0, 1, 8, 27, 64, 125, 216, 343, 512, 729, 1000]\n"
     ]
    }
   ],
   "source": [
    "# Exercise #1\n",
    "# Cube Number Test... Print out all cubed numbers up to the total value \n",
    "# 1000. Meaning that if the cubed number is over 1000 break the loop.\n",
    "\n",
    "cubes = []\n",
    "for number in range(0,1001):\n",
    "    cube = number**3\n",
    "    cubes.append(cube)\n",
    "    if cube >= 1000:\n",
    "        break\n",
    "print(cubes)\n",
    "\n",
    "\n",
    "# Exercise 3\n",
    "# Take in a user's input for their age. If they are younger than\n",
    "# 18, print kids. If they're 18-65 print adults, else print seniors\n"
   ]
  },
  {
   "cell_type": "code",
   "execution_count": 43,
   "id": "23949749",
   "metadata": {},
   "outputs": [
    {
     "name": "stdout",
     "output_type": "stream",
     "text": [
      "[0]\n",
      "[2]\n",
      "[3]\n",
      "[5]\n",
      "[7]\n",
      "[11]\n",
      "[13]\n",
      "[17]\n",
      "[19]\n",
      "[23]\n",
      "[29]\n",
      "[31]\n",
      "[37]\n",
      "[41]\n",
      "[43]\n",
      "[47]\n",
      "[53]\n",
      "[59]\n",
      "[61]\n",
      "[67]\n",
      "[71]\n",
      "[73]\n",
      "[79]\n",
      "[83]\n",
      "[89]\n",
      "[97]\n"
     ]
    }
   ],
   "source": [
    "# Exercise #2\n",
    "# Get first prime numbers up to 100\n",
    "# HINT::\n",
    "# An else after an if runs if the if didn’t\n",
    "# An else after a for runs if the for didn’t break\n",
    "\n",
    "for n in range(0, 101):\n",
    "    count = 0\n",
    "    for i in range(2, (n//2+1)):\n",
    "        if (n % i ==0):\n",
    "            count += 1\n",
    "            break\n",
    "    if (count == 0 and n != 1):\n",
    "        print([n])"
   ]
  },
  {
   "cell_type": "code",
   "execution_count": 46,
   "id": "d7d81d4b",
   "metadata": {},
   "outputs": [
    {
     "name": "stdout",
     "output_type": "stream",
     "text": [
      "Age: 70\n",
      "seniors\n"
     ]
    }
   ],
   "source": [
    "# Exercise 3\n",
    "# Take in a users input for their age, if they are younger than\n",
    "# 18 print kids, if they're 18 to 65 print adults, else print seniors\n",
    "age = int(input(\"Age: \"))\n",
    "if age <= 17:\n",
    "    print (\"kids\")\n",
    "elif age <= 65:\n",
    "    print (\"adults\")\n",
    "else:\n",
    "    print (\"seniors\")"
   ]
  },
  {
   "cell_type": "code",
   "execution_count": null,
   "id": "024ef1d1",
   "metadata": {},
   "outputs": [],
   "source": []
  }
 ],
 "metadata": {
  "kernelspec": {
   "display_name": "Python 3",
   "language": "python",
   "name": "python3"
  },
  "language_info": {
   "codemirror_mode": {
    "name": "ipython",
    "version": 3
   },
   "file_extension": ".py",
   "mimetype": "text/x-python",
   "name": "python",
   "nbconvert_exporter": "python",
   "pygments_lexer": "ipython3",
   "version": "3.8.8"
  }
 },
 "nbformat": 4,
 "nbformat_minor": 5
}
